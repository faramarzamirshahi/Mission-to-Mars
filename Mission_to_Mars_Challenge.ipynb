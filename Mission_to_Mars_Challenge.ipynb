{
	"metadata": {
		"language_info": {
			"codemirror_mode": {
				"name": "ipython",
				"version": 3
			},
			"file_extension": ".py",
			"mimetype": "text/x-python",
			"name": "python",
			"nbconvert_exporter": "python",
			"pygments_lexer": "ipython3",
			"version": "3.8.3-final"
		},
		"orig_nbformat": 2,
		"kernelspec": {
			"name": "Python 3.8.3 64-bit",
			"display_name": "Python 3.8.3 64-bit",
			"metadata": {
				"interpreter": {
					"hash": "7120a23fc26abddbafebc0bee5682270bf71b835715bde0976598b0091d397ea"
				}
			}
		}
	},
	"nbformat": 4,
	"nbformat_minor": 2,
	"cells": [
		{
			"cell_type": "code",
			"execution_count": null,
			"metadata": {},
			"outputs": [],
			"source": [
				"# Import Splinter and BeautifulSoup\n",
				"from splinter import Browser\n",
				"from bs4 import BeautifulSoup as soup\n",
				"import pandas as pd"
			]
		},
		{
			"cell_type": "code",
			"execution_count": null,
			"metadata": {},
			"outputs": [],
			"source": [
				"executable_path = {'executable_path': 'chromedriver.exe'}\n",
				"# headless browser is a web browser without a graphical user interface.\n",
				"browser = Browser('chrome', **executable_path)"
			]
		},
		{
			"cell_type": "code",
			"execution_count": null,
			"metadata": {},
			"outputs": [],
			"source": [
				"# Visit the mars nasa news site\n",
				"url = 'https://mars.nasa.gov/news/'\n",
				"browser.visit(url)\n",
				"# Optional delay for loading the page\n",
				"browser.is_element_present_by_css(\"ul.item_list li.slide\", wait_time=1)"
			]
		},
		{
			"source": [
				" `ul.item_list` means look for `<ul class=\"item_list\">`\n",
				" "
			],
			"cell_type": "markdown",
			"metadata": {}
		},
		{
			"cell_type": "code",
			"execution_count": null,
			"metadata": {},
			"outputs": [],
			"source": [
				"html = browser.html\n",
				"news_soup = soup(html, 'html.parser')\n",
				"slide_elem = news_soup.select_one('ul.item_list li.slide')"
			]
		},
		{
			"cell_type": "code",
			"execution_count": null,
			"metadata": {},
			"outputs": [],
			"source": [
				"slide_elem.find(\"div\", class_='content_title')"
			]
		},
		{
			"cell_type": "code",
			"execution_count": null,
			"metadata": {},
			"outputs": [],
			"source": [
				"slide_elem.find_all(\"div\", class_='content_title')"
			]
		},
		{
			"cell_type": "code",
			"execution_count": null,
			"metadata": {},
			"outputs": [],
			"source": [
				"# Use the parent element to find the first `a` tag and save it as `news_title`\n",
				"news_title = slide_elem.find(\"div\", class_='content_title').get_text()\n",
				"news_title"
			]
		},
		{
			"cell_type": "code",
			"execution_count": null,
			"metadata": {},
			"outputs": [],
			"source": [
				"# Use the parent element to find the paragraph text\n",
				"news_p = slide_elem.find('div', class_=\"article_teaser_body\").get_text()\n",
				"news_p"
			]
		},
		{
			"source": [
				"### Featured Images"
			],
			"cell_type": "markdown",
			"metadata": {}
		},
		{
			"cell_type": "code",
			"execution_count": null,
			"metadata": {},
			"outputs": [],
			"source": [
				"# Visit URL\n",
				"url = 'https://www.jpl.nasa.gov/spaceimages/?search=&category=Mars'\n",
				"browser.visit(url)"
			]
		},
		{
			"cell_type": "code",
			"execution_count": null,
			"metadata": {},
			"outputs": [],
			"source": [
				"# Find and click the full image button\n",
				"full_image_elem = browser.find_by_id('full_image')\n",
				"full_image_elem.click()"
			]
		},
		{
			"cell_type": "code",
			"execution_count": null,
			"metadata": {},
			"outputs": [],
			"source": [
				"# Find the more info button and click that\n",
				"browser.is_element_present_by_text('more info', wait_time=1)\n",
				"more_info_elem = browser.links.find_by_partial_text('more info')\n",
				"more_info_elem.click()"
			]
		},
		{
			"cell_type": "code",
			"execution_count": null,
			"metadata": {},
			"outputs": [],
			"source": [
				"# Parse the resulting html with soup\n",
				"html = browser.html\n",
				"img_soup = soup(html, 'html.parser')"
			]
		},
		{
			"cell_type": "code",
			"execution_count": null,
			"metadata": {},
			"outputs": [],
			"source": [
				"# Find the relative image url\n",
				"img_url_rel = img_soup.select_one('figure.lede a img').get(\"src\")\n",
				"img_url_rel"
			]
		},
		{
			"cell_type": "code",
			"execution_count": null,
			"metadata": {},
			"outputs": [],
			"source": [
				"# Use the base URL to create an absolute URL\n",
				"img_url = f'https://www.jpl.nasa.gov{img_url_rel}'\n",
				"img_url"
			]
		},
		{
			"source": [
				"### Scrape facts"
			],
			"cell_type": "markdown",
			"metadata": {}
		},
		{
			"cell_type": "code",
			"execution_count": null,
			"metadata": {},
			"outputs": [],
			"source": [
				"df = pd.read_html('http://space-facts.com/mars/')[0]\n",
				"df.columns=['description', 'value']\n",
				"df.set_index('description', inplace=True)\n",
				"df"
			]
		},
		{
			"cell_type": "code",
			"execution_count": null,
			"metadata": {},
			"outputs": [],
			"source": [
				"df.to_html()"
			]
		},
		{
			"cell_type": "code",
			"execution_count": null,
			"metadata": {},
			"outputs": [],
			"source": [
				"browser.quit()"
			]
		},
		{
			"source": [
				"# ************** Assignment starts here ********************"
			],
			"cell_type": "markdown",
			"metadata": {}
		},
		{
			"cell_type": "code",
			"execution_count": 1,
			"metadata": {},
			"outputs": [],
			"source": [
				"# Import Splinter, BeautifulSoup, and Pandas\n",
				"from splinter import Browser\n",
				"from bs4 import BeautifulSoup as soup\n",
				"import pandas as pd"
			]
		},
		{
			"cell_type": "code",
			"execution_count": 2,
			"metadata": {},
			"outputs": [
				{
					"output_type": "stream",
					"name": "stdout",
					"text": [
						"d:\\Users\\Faramarz\\UofT\\ClassProjects\\Module10-WebScraping\\Assignment\\Mission-to-Mars\\chromedriver.exe\n"
					]
				}
			],
			"source": [
				"# Path to chromedriver\n",
				"!where chromedriver"
			]
		},
		{
			"cell_type": "code",
			"execution_count": 3,
			"metadata": {},
			"outputs": [],
			"source": [
				"# Set the executable path and initialize the chrome browser in splinter\n",
				"executable_path = {'executable_path': './chromedriver'}\n",
				"browser = Browser('chrome', **executable_path)"
			]
		},
		{
			"cell_type": "markdown",
			"metadata": {},
			"source": [
				"### Visit the NASA Mars News Site"
			]
		},
		{
			"cell_type": "code",
			"execution_count": 5,
			"metadata": {},
			"outputs": [
				{
					"output_type": "execute_result",
					"data": {
						"text/plain": [
							"True"
						]
					},
					"metadata": {},
					"execution_count": 5
				}
			],
			"source": [
				"# Visit the mars nasa news site\n",
				"url = 'https://mars.nasa.gov/news/'\n",
				"browser.visit(url)\n",
				"\n",
				"# Optional delay for loading the page\n",
				"browser.is_element_present_by_css(\"ul.item_list li.slide\", wait_time=1)"
			]
		},
		{
			"cell_type": "code",
			"execution_count": 6,
			"metadata": {},
			"outputs": [],
			"source": [
				"# Convert the browser html to a soup object and then quit the browser\n",
				"html = browser.html\n",
				"news_soup = soup(html, 'html.parser')\n",
				"\n",
				"slide_elem = news_soup.select_one('ul.item_list li.slide')"
			]
		},
		{
			"cell_type": "code",
			"execution_count": 7,
			"metadata": {},
			"outputs": [
				{
					"output_type": "execute_result",
					"data": {
						"text/plain": [
							"<div class=\"content_title\"><a href=\"/news/8785/nasas-perseverance-rover-is-midway-to-mars/\" target=\"_self\">NASA's Perseverance Rover Is Midway to Mars </a></div>"
						]
					},
					"metadata": {},
					"execution_count": 7
				}
			],
			"source": [
				"slide_elem.find(\"div\", class_='content_title')"
			]
		},
		{
			"cell_type": "code",
			"execution_count": 8,
			"metadata": {},
			"outputs": [
				{
					"output_type": "execute_result",
					"data": {
						"text/plain": [
							"\"NASA's Perseverance Rover Is Midway to Mars \""
						]
					},
					"metadata": {},
					"execution_count": 8
				}
			],
			"source": [
				"# Use the parent element to find the first a tag and save it as `news_title`\n",
				"news_title = slide_elem.find(\"div\", class_='content_title').get_text()\n",
				"news_title"
			]
		},
		{
			"cell_type": "code",
			"execution_count": 9,
			"metadata": {},
			"outputs": [
				{
					"output_type": "execute_result",
					"data": {
						"text/plain": [
							"\"Sometimes half measures can be a good thing – especially on a journey this long. The agency's latest rover only has about 146 million miles left to reach its destination.\""
						]
					},
					"metadata": {},
					"execution_count": 9
				}
			],
			"source": [
				"# Use the parent element to find the paragraph text\n",
				"news_p = slide_elem.find('div', class_=\"article_teaser_body\").get_text()\n",
				"news_p"
			]
		},
		{
			"cell_type": "markdown",
			"metadata": {},
			"source": [
				"### JPL Space Images Featured Image"
			]
		},
		{
			"cell_type": "code",
			"execution_count": 10,
			"metadata": {},
			"outputs": [],
			"source": [
				"# Visit URL\n",
				"url = 'https://www.jpl.nasa.gov/spaceimages/?search=&category=Mars'\n",
				"browser.visit(url)"
			]
		},
		{
			"cell_type": "code",
			"execution_count": 11,
			"metadata": {},
			"outputs": [],
			"source": [
				"# Find and click the full image button\n",
				"full_image_elem = browser.find_by_id('full_image')\n",
				"full_image_elem.click()"
			]
		},
		{
			"cell_type": "code",
			"execution_count": 12,
			"metadata": {},
			"outputs": [],
			"source": [
				"# Find the more info button and click that\n",
				"browser.is_element_present_by_text('more info', wait_time=1)\n",
				"more_info_elem = browser.links.find_by_partial_text('more info')\n",
				"more_info_elem.click()"
			]
		},
		{
			"cell_type": "code",
			"execution_count": 13,
			"metadata": {},
			"outputs": [],
			"source": [
				"# Parse the resulting html with soup\n",
				"html = browser.html\n",
				"img_soup = soup(html, 'html.parser')"
			]
		},
		{
			"cell_type": "code",
			"execution_count": 14,
			"metadata": {},
			"outputs": [
				{
					"output_type": "execute_result",
					"data": {
						"text/plain": [
							"'/spaceimages/images/largesize/PIA14627_hires.jpg'"
						]
					},
					"metadata": {},
					"execution_count": 14
				}
			],
			"source": [
				"# find the relative image url\n",
				"img_url_rel = img_soup.select_one('figure.lede a img').get(\"src\")\n",
				"img_url_rel"
			]
		},
		{
			"cell_type": "code",
			"execution_count": 15,
			"metadata": {},
			"outputs": [
				{
					"output_type": "execute_result",
					"data": {
						"text/plain": [
							"'https://www.jpl.nasa.gov/spaceimages/images/largesize/PIA14627_hires.jpg'"
						]
					},
					"metadata": {},
					"execution_count": 15
				}
			],
			"source": [
				"# Use the base url to create an absolute url\n",
				"img_url = f'https://www.jpl.nasa.gov{img_url_rel}'\n",
				"img_url"
			]
		},
		{
			"cell_type": "markdown",
			"metadata": {},
			"source": [
				"### Mars Facts"
			]
		},
		{
			"cell_type": "code",
			"execution_count": 16,
			"metadata": {},
			"outputs": [
				{
					"output_type": "execute_result",
					"data": {
						"text/plain": [
							"                      0                              1\n",
							"0  Equatorial Diameter:                       6,792 km\n",
							"1       Polar Diameter:                       6,752 km\n",
							"2                 Mass:  6.39 × 10^23 kg (0.11 Earths)\n",
							"3                Moons:            2 (Phobos & Deimos)\n",
							"4       Orbit Distance:       227,943,824 km (1.38 AU)"
						],
						"text/html": "<div>\n<style scoped>\n    .dataframe tbody tr th:only-of-type {\n        vertical-align: middle;\n    }\n\n    .dataframe tbody tr th {\n        vertical-align: top;\n    }\n\n    .dataframe thead th {\n        text-align: right;\n    }\n</style>\n<table border=\"1\" class=\"dataframe\">\n  <thead>\n    <tr style=\"text-align: right;\">\n      <th></th>\n      <th>0</th>\n      <th>1</th>\n    </tr>\n  </thead>\n  <tbody>\n    <tr>\n      <th>0</th>\n      <td>Equatorial Diameter:</td>\n      <td>6,792 km</td>\n    </tr>\n    <tr>\n      <th>1</th>\n      <td>Polar Diameter:</td>\n      <td>6,752 km</td>\n    </tr>\n    <tr>\n      <th>2</th>\n      <td>Mass:</td>\n      <td>6.39 × 10^23 kg (0.11 Earths)</td>\n    </tr>\n    <tr>\n      <th>3</th>\n      <td>Moons:</td>\n      <td>2 (Phobos &amp; Deimos)</td>\n    </tr>\n    <tr>\n      <th>4</th>\n      <td>Orbit Distance:</td>\n      <td>227,943,824 km (1.38 AU)</td>\n    </tr>\n  </tbody>\n</table>\n</div>"
					},
					"metadata": {},
					"execution_count": 16
				}
			],
			"source": [
				"df = pd.read_html('http://space-facts.com/mars/')[0]\n",
				"\n",
				"df.head()"
			]
		},
		{
			"cell_type": "code",
			"execution_count": 17,
			"metadata": {},
			"outputs": [
				{
					"output_type": "execute_result",
					"data": {
						"text/plain": [
							"                                               Mars\n",
							"Description                                        \n",
							"Equatorial Diameter:                       6,792 km\n",
							"Polar Diameter:                            6,752 km\n",
							"Mass:                 6.39 × 10^23 kg (0.11 Earths)\n",
							"Moons:                          2 (Phobos & Deimos)\n",
							"Orbit Distance:            227,943,824 km (1.38 AU)\n",
							"Orbit Period:                  687 days (1.9 years)\n",
							"Surface Temperature:                   -87 to -5 °C\n",
							"First Record:                     2nd millennium BC\n",
							"Recorded By:                   Egyptian astronomers"
						],
						"text/html": "<div>\n<style scoped>\n    .dataframe tbody tr th:only-of-type {\n        vertical-align: middle;\n    }\n\n    .dataframe tbody tr th {\n        vertical-align: top;\n    }\n\n    .dataframe thead th {\n        text-align: right;\n    }\n</style>\n<table border=\"1\" class=\"dataframe\">\n  <thead>\n    <tr style=\"text-align: right;\">\n      <th></th>\n      <th>Mars</th>\n    </tr>\n    <tr>\n      <th>Description</th>\n      <th></th>\n    </tr>\n  </thead>\n  <tbody>\n    <tr>\n      <th>Equatorial Diameter:</th>\n      <td>6,792 km</td>\n    </tr>\n    <tr>\n      <th>Polar Diameter:</th>\n      <td>6,752 km</td>\n    </tr>\n    <tr>\n      <th>Mass:</th>\n      <td>6.39 × 10^23 kg (0.11 Earths)</td>\n    </tr>\n    <tr>\n      <th>Moons:</th>\n      <td>2 (Phobos &amp; Deimos)</td>\n    </tr>\n    <tr>\n      <th>Orbit Distance:</th>\n      <td>227,943,824 km (1.38 AU)</td>\n    </tr>\n    <tr>\n      <th>Orbit Period:</th>\n      <td>687 days (1.9 years)</td>\n    </tr>\n    <tr>\n      <th>Surface Temperature:</th>\n      <td>-87 to -5 °C</td>\n    </tr>\n    <tr>\n      <th>First Record:</th>\n      <td>2nd millennium BC</td>\n    </tr>\n    <tr>\n      <th>Recorded By:</th>\n      <td>Egyptian astronomers</td>\n    </tr>\n  </tbody>\n</table>\n</div>"
					},
					"metadata": {},
					"execution_count": 17
				}
			],
			"source": [
				"df.columns=['Description', 'Mars']\n",
				"df.set_index('Description', inplace=True)\n",
				"df"
			]
		},
		{
			"cell_type": "code",
			"execution_count": 18,
			"metadata": {},
			"outputs": [
				{
					"output_type": "execute_result",
					"data": {
						"text/plain": [
							"'<table border=\"1\" class=\"dataframe\">\\n  <thead>\\n    <tr style=\"text-align: right;\">\\n      <th></th>\\n      <th>Mars</th>\\n    </tr>\\n    <tr>\\n      <th>Description</th>\\n      <th></th>\\n    </tr>\\n  </thead>\\n  <tbody>\\n    <tr>\\n      <th>Equatorial Diameter:</th>\\n      <td>6,792 km</td>\\n    </tr>\\n    <tr>\\n      <th>Polar Diameter:</th>\\n      <td>6,752 km</td>\\n    </tr>\\n    <tr>\\n      <th>Mass:</th>\\n      <td>6.39 × 10^23 kg (0.11 Earths)</td>\\n    </tr>\\n    <tr>\\n      <th>Moons:</th>\\n      <td>2 (Phobos &amp; Deimos)</td>\\n    </tr>\\n    <tr>\\n      <th>Orbit Distance:</th>\\n      <td>227,943,824 km (1.38 AU)</td>\\n    </tr>\\n    <tr>\\n      <th>Orbit Period:</th>\\n      <td>687 days (1.9 years)</td>\\n    </tr>\\n    <tr>\\n      <th>Surface Temperature:</th>\\n      <td>-87 to -5 °C</td>\\n    </tr>\\n    <tr>\\n      <th>First Record:</th>\\n      <td>2nd millennium BC</td>\\n    </tr>\\n    <tr>\\n      <th>Recorded By:</th>\\n      <td>Egyptian astronomers</td>\\n    </tr>\\n  </tbody>\\n</table>'"
						]
					},
					"metadata": {},
					"execution_count": 18
				}
			],
			"source": [
				"df.to_html()"
			]
		},
		{
			"cell_type": "markdown",
			"metadata": {},
			"source": [
				"### Mars Weather"
			]
		},
		{
			"cell_type": "code",
			"execution_count": 19,
			"metadata": {},
			"outputs": [],
			"source": [
				"# Visit the weather website\n",
				"url = 'https://mars.nasa.gov/insight/weather/'\n",
				"browser.visit(url)"
			]
		},
		{
			"cell_type": "code",
			"execution_count": 20,
			"metadata": {},
			"outputs": [],
			"source": [
				"# Parse the data\n",
				"html = browser.html\n",
				"weather_soup = soup(html, 'html.parser')"
			]
		},
		{
			"cell_type": "code",
			"execution_count": 21,
			"metadata": {},
			"outputs": [
				{
					"output_type": "stream",
					"name": "stdout",
					"text": [
						"<table class=\"mb_table\" id=\"weather_observation\" style=\"width:100%;\">\n <thead>\n  <tr>\n   <th colspan=\"2\" scope=\"col\">\n    Time\n   </th>\n   <th colspan=\"3\" id=\"temperature_lbl\" scope=\"col\">\n    Air Temperature (\n    <span class=\"lbl_fahrenheit\">\n     °F\n    </span>\n    <span class=\"slash\">\n     |\n    </span>\n    <span class=\"lbl_celsius fadeBlack\">\n     °C\n    </span>\n    )\n   </th>\n   <th colspan=\"4\" id=\"windspeed_lbl\" scope=\"col\">\n    Wind Speed (\n    <span class=\"lbl_mph\">\n     mph\n    </span>\n    <span class=\"slash\">\n     |\n    </span>\n    <span class=\"lbl_mps fadeBlack\">\n     m/s\n    </span>\n    )\n   </th>\n   <th colspan=\"3\" id=\"pressure_lbl\" scope=\"col\">\n    Pressure (Pa)\n   </th>\n  </tr>\n </thead>\n <tbody>\n  <tr id=\"weather_top\">\n   <th class=\"sol\" scope=\"row\">\n    Date\n   </th>\n   <th class=\"sol\" scope=\"row\">\n    Sol\n   </th>\n   <td class=\"temperature max\">\n    Max.\n   </td>\n   <td class=\"temperature avg\">\n    Avg.\n   </td>\n   <td class=\"temperature min\">\n    Min.\n   </td>\n   <td class=\"windspeed max\">\n    Max.\n   </td>\n   <td class=\"windspeed avg\">\n    Avg.\n   </td>\n   <td class=\"windspeed min\">\n    Min.\n   </td>\n   <td class=\"windspeed direction\">\n    Direction\n    <br/>\n    <span style=\"font-size:x-small\">\n     (most common)\n    </span>\n   </td>\n   <td class=\"pressure max\">\n    Max.\n   </td>\n   <td class=\"pressure avg\">\n    Avg.\n   </td>\n   <td class=\"pressure min\">\n    Min.\n   </td>\n  </tr>\n  <tr>\n   <th class=\"sol\" scope=\"row\">\n    Oct. 25, 2020\n   </th>\n   <th class=\"sol\" scope=\"row\">\n    681\n   </th>\n   <td class=\"temperature max\">\n    <span class=\"fahrenheit\">\n     <nobr>\n      24° F\n     </nobr>\n    </span>\n    <span class=\"celsius\" style=\"display: none;\">\n     <nobr>\n      -4.4° C\n     </nobr>\n    </span>\n   </td>\n   <td class=\"temperature avg\">\n    <span class=\"fahrenheit\">\n     <nobr>\n      -80.4° F\n     </nobr>\n    </span>\n    <span class=\"celsius\" style=\"display: none;\">\n     <nobr>\n      -62.4° C\n     </nobr>\n    </span>\n   </td>\n   <td class=\"temperature min\">\n    <span class=\"fahrenheit\">\n     <nobr>\n      -139.8° F\n     </nobr>\n    </span>\n    <span class=\"celsius\" style=\"display: none;\">\n     <nobr>\n      -95.4° C\n     </nobr>\n    </span>\n   </td>\n   <td class=\"windspeed max\">\n    <span class=\"mph\">\n     41.6\n    </span>\n    <span class=\"mps\" style=\"display:none\">\n     18.6\n    </span>\n   </td>\n   <td class=\"windspeed avg\">\n    <span class=\"mph\">\n     12.6\n    </span>\n    <span class=\"mps\" style=\"display:none\">\n     5.6\n    </span>\n   </td>\n   <td class=\"windspeed min\">\n    <span class=\"mph\">\n     0.5\n    </span>\n    <span class=\"mps\" style=\"display:none\">\n     0.2\n    </span>\n   </td>\n   <td class=\"windspeed point\">\n    WNW\n   </td>\n   <td class=\"pressure max\">\n    760.2\n   </td>\n   <td class=\"pressure avg\">\n    743.6\n   </td>\n   <td class=\"pressure min\">\n    718.5\n   </td>\n  </tr>\n </tbody>\n</table>\n"
					]
				}
			],
			"source": [
				"# Scrape the Daily Weather Report table\n",
				"weather_table = weather_soup.find('table', class_='mb_table')\n",
				"print(weather_table.prettify())"
			]
		},
		{
			"cell_type": "markdown",
			"metadata": {},
			"source": [
				"# D1: Scrape High-Resolution Mars’ Hemisphere Images and Titles"
			]
		},
		{
			"cell_type": "markdown",
			"metadata": {},
			"source": [
				"### Hemispheres"
			]
		},
		{
			"cell_type": "code",
			"execution_count": 4,
			"metadata": {},
			"outputs": [],
			"source": [
				"# 1. Use browser to visit the URL \n",
				"url = 'https://astrogeology.usgs.gov/search/results?q=hemisphere+enhanced&k1=target&v1=Mars'\n",
				"browser.visit(url)"
			]
		},
		{
			"cell_type": "code",
			"execution_count": 5,
			"metadata": {},
			"outputs": [],
			"source": [
				"# 2. Create a list to hold the images and titles.\n",
				"hemisphere_image_urls = []\n",
				"thumb_html = browser.html\n",
				"html_soup = soup(thumb_html,'html.parser')\n",
				"items = html_soup.find_all('div', class_='item')\n",
				"for item in items:\n",
				"    href_element = item.find('a',class_='itemLink product-item')\n",
				"    href = href_element['href']\n",
				"    href = f'https://astrogeology.usgs.gov/{href}'\n",
				"    hemisphere_image_urls.append({'title':item.div.a.text,'href':href})\n",
				"\n",
				"# 3. Write code to retrieve the image urls and titles for each hemisphere.\n",
				"def jpg_href(url):\n",
				"    # return the jpeg url\n",
				"    browser.visit(url)\n",
				"    html = browser.html\n",
				"    soup_=soup(html,'html.parser')\n",
				"    elem=soup_.find('div',class_='downloads')\n",
				"    href=elem.find('a').get('href')\n",
				"    return href\n",
				"for i in range(len(hemisphere_image_urls)):\n",
				"    url = hemisphere_image_urls[i]['href']\n",
				"    jpg = jpg_href(url)\n",
				"    hemisphere_image_urls[i]['img_url']=jpg\n"
			]
		},
		{
			"cell_type": "code",
			"execution_count": 12,
			"metadata": {},
			"outputs": [
				{
					"output_type": "execute_result",
					"data": {
						"text/plain": [
							"[{'title': 'Cerberus Hemisphere Enhanced',\n",
							"  'href': 'https://astrogeology.usgs.gov//search/map/Mars/Viking/cerberus_enhanced',\n",
							"  'img_url': 'https://astropedia.astrogeology.usgs.gov/download/Mars/Viking/cerberus_enhanced.tif/full.jpg'},\n",
							" {'title': 'Schiaparelli Hemisphere Enhanced',\n",
							"  'href': 'https://astrogeology.usgs.gov//search/map/Mars/Viking/schiaparelli_enhanced',\n",
							"  'img_url': 'https://astropedia.astrogeology.usgs.gov/download/Mars/Viking/schiaparelli_enhanced.tif/full.jpg'},\n",
							" {'title': 'Syrtis Major Hemisphere Enhanced',\n",
							"  'href': 'https://astrogeology.usgs.gov//search/map/Mars/Viking/syrtis_major_enhanced',\n",
							"  'img_url': 'https://astropedia.astrogeology.usgs.gov/download/Mars/Viking/syrtis_major_enhanced.tif/full.jpg'},\n",
							" {'title': 'Valles Marineris Hemisphere Enhanced',\n",
							"  'href': 'https://astrogeology.usgs.gov//search/map/Mars/Viking/valles_marineris_enhanced',\n",
							"  'img_url': 'https://astropedia.astrogeology.usgs.gov/download/Mars/Viking/valles_marineris_enhanced.tif/full.jpg'}]"
						]
					},
					"metadata": {},
					"execution_count": 12
				}
			],
			"source": [
				"# 4. Print the list that holds the dictionary of each image url and title.\n",
				"hemisphere_image_urls"
			]
		},
		{
			"cell_type": "code",
			"execution_count": 91,
			"metadata": {},
			"outputs": [],
			"source": [
				"# 5. Quit the browser\n",
				"browser.quit()"
			]
		},
		{
			"cell_type": "code",
			"execution_count": null,
			"metadata": {},
			"outputs": [],
			"source": []
		}
	]
}